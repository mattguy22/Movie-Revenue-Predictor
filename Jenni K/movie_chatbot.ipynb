{
 "cells": [
  {
   "cell_type": "code",
   "execution_count": 1,
   "metadata": {},
   "outputs": [],
   "source": [
    "import pandas as pd\n",
    "import numpy as np\n",
    "from sklearn.model_selection import train_test_split\n",
    "from sklearn.ensemble import RandomForestRegressor\n",
    "from sklearn.ensemble import RandomForestRegressor\n",
    "from sklearn.metrics import mean_absolute_error, mean_squared_error, r2_score\n",
    "from joblib import dump\n"
   ]
  },
  {
   "cell_type": "code",
   "execution_count": 2,
   "metadata": {},
   "outputs": [
    {
     "data": {
      "text/html": [
       "<div>\n",
       "<style scoped>\n",
       "    .dataframe tbody tr th:only-of-type {\n",
       "        vertical-align: middle;\n",
       "    }\n",
       "\n",
       "    .dataframe tbody tr th {\n",
       "        vertical-align: top;\n",
       "    }\n",
       "\n",
       "    .dataframe thead th {\n",
       "        text-align: right;\n",
       "    }\n",
       "</style>\n",
       "<table border=\"1\" class=\"dataframe\">\n",
       "  <thead>\n",
       "    <tr style=\"text-align: right;\">\n",
       "      <th></th>\n",
       "      <th>title</th>\n",
       "      <th>budget</th>\n",
       "      <th>revenue</th>\n",
       "      <th>runtime</th>\n",
       "      <th>genres</th>\n",
       "      <th>popularity</th>\n",
       "      <th>vote_average</th>\n",
       "      <th>vote_count</th>\n",
       "      <th>belongs_to_collection</th>\n",
       "      <th>director</th>\n",
       "      <th>lead_actor</th>\n",
       "      <th>profit</th>\n",
       "      <th>profit_margin</th>\n",
       "      <th>release__year</th>\n",
       "      <th>production_company</th>\n",
       "      <th>genre1</th>\n",
       "      <th>genre2</th>\n",
       "      <th>genre3</th>\n",
       "    </tr>\n",
       "  </thead>\n",
       "  <tbody>\n",
       "    <tr>\n",
       "      <th>0</th>\n",
       "      <td>Lilo &amp; Stitch</td>\n",
       "      <td>80000000</td>\n",
       "      <td>273144151</td>\n",
       "      <td>85</td>\n",
       "      <td>['Animation', 'Family', 'Comedy']</td>\n",
       "      <td>182.4251</td>\n",
       "      <td>7.547</td>\n",
       "      <td>6556</td>\n",
       "      <td>True</td>\n",
       "      <td>Chris Sanders</td>\n",
       "      <td>Daveigh Chase</td>\n",
       "      <td>193144151</td>\n",
       "      <td>0.707114</td>\n",
       "      <td>2002</td>\n",
       "      <td>Walt Disney Pictures</td>\n",
       "      <td>Animation</td>\n",
       "      <td>Family</td>\n",
       "      <td>Comedy</td>\n",
       "    </tr>\n",
       "    <tr>\n",
       "      <th>1</th>\n",
       "      <td>Moana 2</td>\n",
       "      <td>150000000</td>\n",
       "      <td>1059544057</td>\n",
       "      <td>100</td>\n",
       "      <td>['Animation', 'Adventure', 'Family', 'Comedy']</td>\n",
       "      <td>114.2420</td>\n",
       "      <td>7.081</td>\n",
       "      <td>2418</td>\n",
       "      <td>True</td>\n",
       "      <td>David G. Derrick Jr.</td>\n",
       "      <td>Auliʻi Cravalho</td>\n",
       "      <td>909544057</td>\n",
       "      <td>0.858430</td>\n",
       "      <td>2024</td>\n",
       "      <td>Walt Disney Pictures</td>\n",
       "      <td>Animation</td>\n",
       "      <td>Adventure</td>\n",
       "      <td>Family</td>\n",
       "    </tr>\n",
       "    <tr>\n",
       "      <th>2</th>\n",
       "      <td>Mufasa: The Lion King</td>\n",
       "      <td>200000000</td>\n",
       "      <td>721046090</td>\n",
       "      <td>118</td>\n",
       "      <td>['Adventure', 'Family', 'Animation']</td>\n",
       "      <td>85.5401</td>\n",
       "      <td>7.397</td>\n",
       "      <td>2165</td>\n",
       "      <td>True</td>\n",
       "      <td>Barry Jenkins</td>\n",
       "      <td>Aaron Pierre</td>\n",
       "      <td>521046090</td>\n",
       "      <td>0.722625</td>\n",
       "      <td>2024</td>\n",
       "      <td>Walt Disney Pictures</td>\n",
       "      <td>Adventure</td>\n",
       "      <td>Family</td>\n",
       "      <td>Animation</td>\n",
       "    </tr>\n",
       "    <tr>\n",
       "      <th>3</th>\n",
       "      <td>Sonic the Hedgehog 3</td>\n",
       "      <td>122000000</td>\n",
       "      <td>486018457</td>\n",
       "      <td>110</td>\n",
       "      <td>['Action', 'Science Fiction', 'Comedy', 'Family']</td>\n",
       "      <td>81.6122</td>\n",
       "      <td>7.715</td>\n",
       "      <td>2633</td>\n",
       "      <td>True</td>\n",
       "      <td>Jeff Fowler</td>\n",
       "      <td>Jim Carrey</td>\n",
       "      <td>364018457</td>\n",
       "      <td>0.748981</td>\n",
       "      <td>2024</td>\n",
       "      <td>Paramount Pictures</td>\n",
       "      <td>Action</td>\n",
       "      <td>Science Fiction</td>\n",
       "      <td>Comedy</td>\n",
       "    </tr>\n",
       "    <tr>\n",
       "      <th>4</th>\n",
       "      <td>Mission: Impossible - Dead Reckoning Part One</td>\n",
       "      <td>291000000</td>\n",
       "      <td>571125435</td>\n",
       "      <td>164</td>\n",
       "      <td>['Action', 'Adventure', 'Thriller']</td>\n",
       "      <td>73.4752</td>\n",
       "      <td>7.532</td>\n",
       "      <td>4311</td>\n",
       "      <td>True</td>\n",
       "      <td>Christopher McQuarrie</td>\n",
       "      <td>Tom Cruise</td>\n",
       "      <td>280125435</td>\n",
       "      <td>0.490480</td>\n",
       "      <td>2023</td>\n",
       "      <td>Paramount Pictures</td>\n",
       "      <td>Action</td>\n",
       "      <td>Adventure</td>\n",
       "      <td>Thriller</td>\n",
       "    </tr>\n",
       "  </tbody>\n",
       "</table>\n",
       "</div>"
      ],
      "text/plain": [
       "                                           title     budget     revenue  \\\n",
       "0                                  Lilo & Stitch   80000000   273144151   \n",
       "1                                        Moana 2  150000000  1059544057   \n",
       "2                          Mufasa: The Lion King  200000000   721046090   \n",
       "3                           Sonic the Hedgehog 3  122000000   486018457   \n",
       "4  Mission: Impossible - Dead Reckoning Part One  291000000   571125435   \n",
       "\n",
       "   runtime                                             genres  popularity  \\\n",
       "0       85                  ['Animation', 'Family', 'Comedy']    182.4251   \n",
       "1      100     ['Animation', 'Adventure', 'Family', 'Comedy']    114.2420   \n",
       "2      118               ['Adventure', 'Family', 'Animation']     85.5401   \n",
       "3      110  ['Action', 'Science Fiction', 'Comedy', 'Family']     81.6122   \n",
       "4      164                ['Action', 'Adventure', 'Thriller']     73.4752   \n",
       "\n",
       "   vote_average  vote_count  belongs_to_collection               director  \\\n",
       "0         7.547        6556                   True          Chris Sanders   \n",
       "1         7.081        2418                   True   David G. Derrick Jr.   \n",
       "2         7.397        2165                   True          Barry Jenkins   \n",
       "3         7.715        2633                   True            Jeff Fowler   \n",
       "4         7.532        4311                   True  Christopher McQuarrie   \n",
       "\n",
       "        lead_actor     profit  profit_margin  release__year  \\\n",
       "0    Daveigh Chase  193144151       0.707114           2002   \n",
       "1  Auliʻi Cravalho  909544057       0.858430           2024   \n",
       "2     Aaron Pierre  521046090       0.722625           2024   \n",
       "3       Jim Carrey  364018457       0.748981           2024   \n",
       "4       Tom Cruise  280125435       0.490480           2023   \n",
       "\n",
       "     production_company     genre1           genre2     genre3  \n",
       "0  Walt Disney Pictures  Animation           Family     Comedy  \n",
       "1  Walt Disney Pictures  Animation        Adventure     Family  \n",
       "2  Walt Disney Pictures  Adventure           Family  Animation  \n",
       "3    Paramount Pictures     Action  Science Fiction     Comedy  \n",
       "4    Paramount Pictures     Action        Adventure   Thriller  "
      ]
     },
     "execution_count": 2,
     "metadata": {},
     "output_type": "execute_result"
    }
   ],
   "source": [
    "# Load your dataset (if not already loaded)\n",
    "df_movies = pd.read_csv(\"tmdb_movies_500_page_final.csv\")\n",
    "\n",
    "# Drop rows with nulls in key fields\n",
    "df_model = df_movies.dropna(subset=[\n",
    "    'budget', 'runtime', 'popularity', 'vote_average', 'vote_count', 'revenue', 'genre1'\n",
    "])\n",
    "\n",
    "df_model.head()"
   ]
  },
  {
   "cell_type": "code",
   "execution_count": 3,
   "metadata": {},
   "outputs": [],
   "source": [
    "# Encode the primary genre as numeric\n",
    "df_model['genre1_encoded'] = df_model['genre1'].astype('category').cat.codes\n",
    "\n",
    "# Define features and target\n",
    "features = ['budget', 'runtime', 'vote_average', 'vote_count', 'genre1_encoded']\n",
    "target = 'revenue'\n",
    "\n",
    "X = df_model[features]\n",
    "y = df_model[target]"
   ]
  },
  {
   "cell_type": "code",
   "execution_count": 4,
   "metadata": {},
   "outputs": [
    {
     "name": "stdout",
     "output_type": "stream",
     "text": [
      "R²: 0.6771\n",
      "MAE: 70347525.41\n",
      "RMSE: 149981105.51\n"
     ]
    }
   ],
   "source": [
    "# Train/test split (optional, for evaluation)\n",
    "X_train, X_test, y_train, y_test = train_test_split(X, y, test_size=0.2, random_state=42)\n",
    "\n",
    "# Train Random Forest\n",
    "rf_model = RandomForestRegressor(n_estimators=100, random_state=42)\n",
    "rf_model.fit(X_train, y_train)\n",
    "\n",
    "# Evaluate (optional)\n",
    "preds = rf_model.predict(X_test)\n",
    "print(\"R²:\", round(r2_score(y_test, preds), 4))\n",
    "print(\"MAE:\", round(mean_absolute_error(y_test, preds), 2))\n",
    "print(\"RMSE:\", round(np.sqrt(mean_squared_error(y_test, preds)), 2))"
   ]
  },
  {
   "cell_type": "code",
   "execution_count": 5,
   "metadata": {},
   "outputs": [
    {
     "data": {
      "text/plain": [
       "['models/final_rf_model.pkl']"
      ]
     },
     "execution_count": 5,
     "metadata": {},
     "output_type": "execute_result"
    }
   ],
   "source": [
    "import os\n",
    "from joblib import dump\n",
    "\n",
    "# Create 'models' directory if it doesn't exist\n",
    "os.makedirs(\"models\", exist_ok=True)\n",
    "\n",
    "# Save the model\n",
    "dump(rf_model, 'models/final_rf_model.pkl')\n"
   ]
  },
  {
   "cell_type": "code",
   "execution_count": 6,
   "metadata": {},
   "outputs": [
    {
     "data": {
      "text/markdown": [
       "## 🎥 Movie Revenue Prediction Chatbot"
      ],
      "text/plain": [
       "<IPython.core.display.Markdown object>"
      ]
     },
     "metadata": {},
     "output_type": "display_data"
    },
    {
     "data": {
      "application/vnd.jupyter.widget-view+json": {
       "model_id": "822750c79e9b4fdaacbd7f0291be7e8d",
       "version_major": 2,
       "version_minor": 0
      },
      "text/plain": [
       "FloatText(value=100.0, description='Budget ($M):')"
      ]
     },
     "metadata": {},
     "output_type": "display_data"
    },
    {
     "data": {
      "application/vnd.jupyter.widget-view+json": {
       "model_id": "0e817c94401144548884c2628652532c",
       "version_major": 2,
       "version_minor": 0
      },
      "text/plain": [
       "IntSlider(value=120, description='Runtime (min):', max=240, min=60)"
      ]
     },
     "metadata": {},
     "output_type": "display_data"
    },
    {
     "data": {
      "application/vnd.jupyter.widget-view+json": {
       "model_id": "a52aa3397f09467bbaaeb1ae39188e9d",
       "version_major": 2,
       "version_minor": 0
      },
      "text/plain": [
       "FloatSlider(value=7.0, description='Vote Avg:', max=10.0)"
      ]
     },
     "metadata": {},
     "output_type": "display_data"
    },
    {
     "data": {
      "application/vnd.jupyter.widget-view+json": {
       "model_id": "6638214eafee4a17aee2d95c641a039d",
       "version_major": 2,
       "version_minor": 0
      },
      "text/plain": [
       "IntText(value=1000, description='Vote Count:')"
      ]
     },
     "metadata": {},
     "output_type": "display_data"
    },
    {
     "data": {
      "application/vnd.jupyter.widget-view+json": {
       "model_id": "e2e64168216c4ddeace7431d335acf7b",
       "version_major": 2,
       "version_minor": 0
      },
      "text/plain": [
       "Dropdown(description='Genre:', options=('Action', 'Adventure', 'Animation', 'Comedy', 'Crime', 'Documentary', …"
      ]
     },
     "metadata": {},
     "output_type": "display_data"
    },
    {
     "data": {
      "application/vnd.jupyter.widget-view+json": {
       "model_id": "177b5b5a892b4673995cefe4bdb72f1c",
       "version_major": 2,
       "version_minor": 0
      },
      "text/plain": [
       "Button(button_style='success', description='Predict Revenue', style=ButtonStyle())"
      ]
     },
     "metadata": {},
     "output_type": "display_data"
    },
    {
     "data": {
      "application/vnd.jupyter.widget-view+json": {
       "model_id": "85dcb087647944ec944709deae0a1e25",
       "version_major": 2,
       "version_minor": 0
      },
      "text/plain": [
       "FloatText(value=0.0, description='Prediction:')"
      ]
     },
     "metadata": {},
     "output_type": "display_data"
    },
    {
     "ename": "TypeError",
     "evalue": "unsupported format string passed to FloatText.__format__",
     "output_type": "error",
     "traceback": [
      "\u001b[0;31m---------------------------------------------------------------------------\u001b[0m",
      "\u001b[0;31mTypeError\u001b[0m                                 Traceback (most recent call last)",
      "Cell \u001b[0;32mIn[6], line 44\u001b[0m, in \u001b[0;36mpredict_revenue\u001b[0;34m(b)\u001b[0m\n\u001b[1;32m     36\u001b[0m input_df \u001b[38;5;241m=\u001b[39m pd\u001b[38;5;241m.\u001b[39mDataFrame([{\n\u001b[1;32m     37\u001b[0m     \u001b[38;5;124m'\u001b[39m\u001b[38;5;124mbudget\u001b[39m\u001b[38;5;124m'\u001b[39m: budget\u001b[38;5;241m.\u001b[39mvalue \u001b[38;5;241m*\u001b[39m \u001b[38;5;241m1_000_000\u001b[39m,\n\u001b[1;32m     38\u001b[0m     \u001b[38;5;124m'\u001b[39m\u001b[38;5;124mruntime\u001b[39m\u001b[38;5;124m'\u001b[39m: runtime\u001b[38;5;241m.\u001b[39mvalue,\n\u001b[0;32m   (...)\u001b[0m\n\u001b[1;32m     41\u001b[0m     \u001b[38;5;124m'\u001b[39m\u001b[38;5;124mgenre1_encoded\u001b[39m\u001b[38;5;124m'\u001b[39m: genre_mapping\u001b[38;5;241m.\u001b[39mget(genre\u001b[38;5;241m.\u001b[39mvalue, \u001b[38;5;241m-\u001b[39m\u001b[38;5;241m1\u001b[39m)\n\u001b[1;32m     42\u001b[0m }])\n\u001b[1;32m     43\u001b[0m prediction\u001b[38;5;241m.\u001b[39mvalue \u001b[38;5;241m=\u001b[39m model\u001b[38;5;241m.\u001b[39mpredict(input_df)[\u001b[38;5;241m0\u001b[39m]\n\u001b[0;32m---> 44\u001b[0m display(Markdown(\u001b[38;5;124mf\u001b[39m\u001b[38;5;124m\"\u001b[39m\u001b[38;5;124m### 🎬 Predicted Revenue: **$\u001b[39m\u001b[38;5;132;01m{\u001b[39;00mprediction\u001b[38;5;132;01m:\u001b[39;00m\u001b[38;5;124m,.2f\u001b[39m\u001b[38;5;132;01m}\u001b[39;00m\u001b[38;5;124m**\u001b[39m\u001b[38;5;124m\"\u001b[39m))\n",
      "\u001b[0;31mTypeError\u001b[0m: unsupported format string passed to FloatText.__format__"
     ]
    }
   ],
   "source": [
    "import os\n",
    "import joblib\n",
    "import pandas as pd\n",
    "import ipywidgets as widgets\n",
    "from IPython.display import display, Markdown\n",
    "\n",
    "# Safely get the directory of this notebook (works in Voila and Jupyter)\n",
    "base_dir = os.getcwd()\n",
    "\n",
    "# Safe paths\n",
    "model_path = os.path.join(base_dir, 'models', 'final_rf_model.pkl')\n",
    "csv_path = os.path.join(base_dir, 'tmdb_movies_500_page_final.csv')\n",
    "\n",
    "# Load model and data\n",
    "model = joblib.load(model_path)\n",
    "df_movies = pd.read_csv(csv_path)\n",
    "\n",
    "# Prepare genre mapping\n",
    "df_model = df_movies.dropna(subset=[\n",
    "    'budget', 'runtime', 'vote_average', 'vote_count', 'revenue', 'genre1'\n",
    "])\n",
    "genre_mapping = {genre: code for code, genre in enumerate(df_model['genre1'].astype('category').cat.categories)}\n",
    "\n",
    "# Input widgets\n",
    "budget = widgets.FloatText(description='Budget ($M):', value=100)\n",
    "runtime = widgets.IntSlider(description='Runtime (min):', min=60, max=240, value=120)\n",
    "vote_avg = widgets.FloatSlider(description='Vote Avg:', min=0, max=10, value=7)\n",
    "vote_count = widgets.IntText(description='Vote Count:', value=1000)\n",
    "genre = widgets.Dropdown(options=list(genre_mapping.keys()), description='Genre:')\n",
    "\n",
    "predict_btn = widgets.Button(description='Predict Revenue', button_style='success')\n",
    "\n",
    "# Callback\n",
    "prediction = 0\n",
    "def predict_revenue(b):\n",
    "    input_df = pd.DataFrame([{\n",
    "        'budget': budget.value * 1_000_000,\n",
    "        'runtime': runtime.value,\n",
    "        'vote_average': vote_avg.value,\n",
    "        'vote_count': vote_count.value,\n",
    "        'genre1_encoded': genre_mapping.get(genre.value, -1)\n",
    "    }])\n",
    "    prediction.value = model.predict(input_df)[0]\n",
    "    display(Markdown(f\"### 🎬 Predicted Revenue: **${prediction:,.2f}**\"))\n",
    "\n",
    "predict_btn.on_click(predict_revenue)\n",
    "prediction = widgets.FloatText(description='Prediction:', value=prediction)\n",
    "# Display chatbot\n",
    "display(Markdown(\"## 🎥 Movie Revenue Prediction Chatbot\"))\n",
    "display(budget, runtime, vote_avg, vote_count, genre, predict_btn, prediction)\n"
   ]
  },
  {
   "cell_type": "markdown",
   "metadata": {},
   "source": [
    "### To run chatbot:\n",
    "\n",
    "* pip install voila\n",
    "* conda activate my_env\n",
    "* voila movie_chatbot.ipynb\n"
   ]
  }
 ],
 "metadata": {
  "kernelspec": {
   "display_name": "voila_env",
   "language": "python",
   "name": "python3"
  },
  "language_info": {
   "codemirror_mode": {
    "name": "ipython",
    "version": 3
   },
   "file_extension": ".py",
   "mimetype": "text/x-python",
   "name": "python",
   "nbconvert_exporter": "python",
   "pygments_lexer": "ipython3",
   "version": "3.9.23"
  }
 },
 "nbformat": 4,
 "nbformat_minor": 2
}
